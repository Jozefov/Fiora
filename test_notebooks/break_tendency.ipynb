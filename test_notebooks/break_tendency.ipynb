{
 "cells": [
  {
   "metadata": {
    "ExecuteTime": {
     "end_time": "2024-10-15T13:43:47.479873Z",
     "start_time": "2024-10-15T13:43:37.718728Z"
    }
   },
   "cell_type": "code",
   "source": [
    "import pandas as pd\n",
    "from matchms.importing import load_from_mgf\n",
    "from rdkit import Chem\n",
    "\n",
    "from collections import defaultdict\n",
    "import pandas as pd\n",
    "import numpy as np\n",
    "import ast\n",
    "\n",
    "from tqdm import tqdm\n",
    "import logging\n",
    "\n",
    "import torch\n",
    "from torch.utils.data import Dataset, DataLoader\n",
    "import random\n",
    "\n",
    "from fiora.MOL.constants import PPM"
   ],
   "id": "1dc4351079ce1baf",
   "outputs": [],
   "execution_count": 1
  },
  {
   "metadata": {
    "collapsed": true,
    "ExecuteTime": {
     "end_time": "2024-10-15T13:43:47.486073Z",
     "start_time": "2024-10-15T13:43:47.483505Z"
    }
   },
   "cell_type": "code",
   "source": [
    "def load_mgf_with_folds(mgf_path):\n",
    "\n",
    "    spectra = list(load_from_mgf(mgf_path))\n",
    "    records = []\n",
    "    for spec in spectra:\n",
    "        record = spec.to_dict()\n",
    "        records.append(record)\n",
    "    df = pd.DataFrame(records)\n",
    "\n",
    "    if 'fold' not in df.columns:\n",
    "        raise ValueError(\"fold column is missing. Ensure the dataset has been split into train/val/test.\")\n",
    "    \n",
    "    return df"
   ],
   "id": "initial_id",
   "outputs": [],
   "execution_count": 2
  },
  {
   "metadata": {
    "ExecuteTime": {
     "end_time": "2024-10-15T13:44:34.308265Z",
     "start_time": "2024-10-15T13:43:47.527005Z"
    }
   },
   "cell_type": "code",
   "source": [
    "spectra_path = \"/Users/macbook/CODE/mol2DreaMS/data/data/MassSpecGym.mgf\"\n",
    "df = load_mgf_with_folds(spectra_path)\n",
    "print(df.head())\n"
   ],
   "id": "a51a568de71d647a",
   "outputs": [
    {
     "name": "stdout",
     "output_type": "stream",
     "text": [
      "             identifier                                         smiles  \\\n",
      "0  MassSpecGymID0000001  CC(=O)N[C@@H](CC1=CC=CC=C1)C2=CC(=CC(=O)O2)OC   \n",
      "1  MassSpecGymID0000002  CC(=O)N[C@@H](CC1=CC=CC=C1)C2=CC(=CC(=O)O2)OC   \n",
      "2  MassSpecGymID0000003  CC(=O)N[C@@H](CC1=CC=CC=C1)C2=CC(=CC(=O)O2)OC   \n",
      "3  MassSpecGymID0000004  CC(=O)N[C@@H](CC1=CC=CC=C1)C2=CC(=CC(=O)O2)OC   \n",
      "4  MassSpecGymID0000005  CC(=O)N[C@@H](CC1=CC=CC=C1)C2=CC(=CC(=O)O2)OC   \n",
      "\n",
      "         inchikey    formula precursor_formula parent_mass  precursor_mz  \\\n",
      "0  VFMQMACUYWGDOJ  C16H17NO4         C16H18NO4  287.115224      288.1225   \n",
      "1  VFMQMACUYWGDOJ  C16H17NO4         C16H18NO4  287.115224      288.1225   \n",
      "2  VFMQMACUYWGDOJ  C16H17NO4         C16H18NO4  287.115224      288.1225   \n",
      "3  VFMQMACUYWGDOJ  C16H17NO4         C16H18NO4  287.115224      288.1225   \n",
      "4  VFMQMACUYWGDOJ  C16H17NO4         C16H18NO4  287.115224      288.1225   \n",
      "\n",
      "   adduct instrument_type collision_energy   fold simulation_challenge  \\\n",
      "0  [M+H]+        Orbitrap             30.0  train                 True   \n",
      "1  [M+H]+        Orbitrap             20.0  train                 True   \n",
      "2  [M+H]+        Orbitrap             40.0  train                 True   \n",
      "3  [M+H]+        Orbitrap             55.0  train                 True   \n",
      "4  [M+H]+        Orbitrap             10.0  train                 True   \n",
      "\n",
      "                                          peaks_json  \n",
      "0  [[91.0542, 0.24524524524524524], [125.0233, 1....  \n",
      "1  [[91.0542, 0.0990990990990991], [125.0233, 0.2...  \n",
      "2  [[69.0343, 0.03403403403403404], [91.0542, 0.3...  \n",
      "3  [[69.0343, 0.17917917917917917], [91.0542, 0.4...  \n",
      "4  [[91.0542, 0.07807807807807808], [125.0233, 0....  \n"
     ]
    }
   ],
   "execution_count": 3
  },
  {
   "metadata": {
    "ExecuteTime": {
     "end_time": "2024-10-15T13:44:34.339790Z",
     "start_time": "2024-10-15T13:44:34.337859Z"
    }
   },
   "cell_type": "code",
   "source": [
    "# metadata_key_map = {\n",
    "#                 \"name\": \"Name\",\n",
    "#                 \"collision_energy\":  \"CE\", \n",
    "#                 \"instrument\": \"Instrument_type\",\n",
    "#                 \"ionization\": \"Ionization\",\n",
    "#                 \"precursor_mz\": \"PrecursorMZ\",\n",
    "#                 \"precursor_mode\": \"Precursor_type\",\n",
    "#                 \"retention_time\": \"RETENTIONTIME\",\n",
    "#                 \"ccs\": \"CCS\"\n",
    "#                 }\n"
   ],
   "id": "a4830b971f146a5a",
   "outputs": [],
   "execution_count": 4
  },
  {
   "metadata": {
    "ExecuteTime": {
     "end_time": "2024-10-15T13:44:34.376326Z",
     "start_time": "2024-10-15T13:44:34.369526Z"
    }
   },
   "cell_type": "code",
   "source": [
    "def prepare_dataframe_for_fiora(df):\n",
    "    # Step 1: Rename Columns to Match metadata_key_map\n",
    "    df = df.rename(columns={\n",
    "        'identifier': 'Name',\n",
    "        'collision_energy': 'CE',\n",
    "        'instrument_type': 'Instrument_type',\n",
    "        'adduct': 'Precursor_type',          # Adjusted based on your mapping\n",
    "        'precursor_mz': 'PrecursorMZ',\n",
    "        'smiles': 'SMILES',\n",
    "        'inchikey': 'InChiKey',\n",
    "        'formula': 'Formula',\n",
    "        'precursor_formula': 'PrecursorFormula',\n",
    "        'parent_mass': 'ParentMass'\n",
    "    })\n",
    "    \n",
    "    # Step 2: Handle Retention Time and CCS\n",
    "    if 'RETENTIONTIME' not in df.columns:\n",
    "        df['RETENTIONTIME'] = np.nan\n",
    "    else:\n",
    "        df['RETENTIONTIME'] = pd.to_numeric(df['RETENTIONTIME'], errors='coerce')\n",
    "    \n",
    "    if 'CCS' not in df.columns:\n",
    "        df['CCS'] = np.nan\n",
    "    else:\n",
    "        df['CCS'] = pd.to_numeric(df['CCS'], errors='coerce')\n",
    "    \n",
    "    # Step 3: Handle 'peaks_json' to 'peaks'\n",
    "    if 'peaks_json' in df.columns:\n",
    "        df = df.rename(columns={'peaks_json': 'peaks'})\n",
    "        \n",
    "        def parse_peaks(peaks_entry):\n",
    "            if isinstance(peaks_entry, str):\n",
    "                try:\n",
    "                    return ast.literal_eval(peaks_entry)\n",
    "                except (ValueError, SyntaxError):\n",
    "                    print(f\"Failed to parse peaks: {peaks_entry}\")\n",
    "                    return None\n",
    "            elif isinstance(peaks_entry, list):\n",
    "                return peaks_entry\n",
    "            else:\n",
    "                print(f\"Unexpected type for peaks: {type(peaks_entry)}\")\n",
    "                return None\n",
    "        \n",
    "        df['peaks'] = df['peaks'].apply(parse_peaks)\n",
    "    else:\n",
    "        raise ValueError(\"peaks_json column is missing in the DataFrame.\")\n",
    "    \n",
    "    # Step 4: Convert 'peaks' from list of pairs to dict with 'mz' and 'intensity'\n",
    "    def convert_peaks(peaks_list):\n",
    "        if peaks_list is None:\n",
    "            return {'mz': [], 'intensity': []}\n",
    "        mz = []\n",
    "        intensity = []\n",
    "        for pair in peaks_list:\n",
    "            if isinstance(pair, list) and len(pair) == 2:\n",
    "                mz.append(pair[0])\n",
    "                intensity.append(pair[1])\n",
    "            else:\n",
    "                print(f\"Invalid peak pair: {pair}\")\n",
    "        return {'mz': mz, 'intensity': intensity}\n",
    "    \n",
    "    df['peaks'] = df['peaks'].apply(convert_peaks)\n",
    "    \n",
    "    # Step 5: Add Missing Columns Required by Fiora\n",
    "    if 'PPM_num' not in df.columns:\n",
    "        df['PPM_num'] = 50  # Default value as used in your example\n",
    "    if 'ppm_peak_tolerance' not in df.columns:\n",
    "              # Adjust based on Fiora's definitions\n",
    "        df['ppm_peak_tolerance'] = df['PPM_num'] * PPM\n",
    "    \n",
    "    # Step 6: Add 'lib' and 'origin' Columns\n",
    "    df['lib'] = 'MassSpecGym'\n",
    "    df['origin'] = 'MassSpecGym'\n",
    "    \n",
    "    # Step 7: Ensure 'fold' Column Exists\n",
    "    if 'fold' not in df.columns:\n",
    "        raise ValueError(\"fold column is missing. Ensure the dataset has been split into train/val/test.\")\n",
    "    \n",
    "    # Step 8: Add 'simulation_challenge' Column\n",
    "    if 'simulation_challenge' not in df.columns:\n",
    "        df['simulation_challenge'] = False  # Adjust based on your dataset's context\n",
    "    \n",
    "    # Step 9: Reorder Columns to Match Fiora's Expectations\n",
    "    desired_order = [\n",
    "        'Name',\n",
    "        'SMILES',\n",
    "        'InChiKey',\n",
    "        'Formula',\n",
    "        'PrecursorFormula',\n",
    "        'ParentMass',\n",
    "        'PrecursorMZ',\n",
    "        'Ionization',\n",
    "        'Instrument_type',\n",
    "        'CE',\n",
    "        'fold',\n",
    "        'simulation_challenge',\n",
    "        'peaks',\n",
    "        'RETENTIONTIME',\n",
    "        'CCS',\n",
    "        'Precursor_type',\n",
    "        'PPM_num',\n",
    "        'ppm_peak_tolerance',\n",
    "        'lib',\n",
    "        'origin'\n",
    "    ]\n",
    "    \n",
    "    # Check if all desired columns are present\n",
    "    missing_columns = set(desired_order) - set(df.columns)\n",
    "    if missing_columns:\n",
    "        print(f\"Warning: The following expected columns are missing and will be added as NaN: {missing_columns}\")\n",
    "        for col in missing_columns:\n",
    "            df[col] = np.nan\n",
    "    \n",
    "    # Reorder columns, ignoring any extra columns\n",
    "    df = df.reindex(columns=desired_order)\n",
    "    \n",
    "    return df\n"
   ],
   "id": "591456f9b69dae1d",
   "outputs": [],
   "execution_count": 5
  },
  {
   "metadata": {
    "ExecuteTime": {
     "end_time": "2024-10-15T13:44:36.604683Z",
     "start_time": "2024-10-15T13:44:34.405854Z"
    }
   },
   "cell_type": "code",
   "source": "df_prepared = prepare_dataframe_for_fiora(df)",
   "id": "8e5f0b4ec05eb210",
   "outputs": [
    {
     "name": "stdout",
     "output_type": "stream",
     "text": [
      "Warning: The following expected columns are missing and will be added as NaN: {'Ionization'}\n"
     ]
    }
   ],
   "execution_count": 6
  },
  {
   "metadata": {
    "ExecuteTime": {
     "end_time": "2024-10-15T14:04:37.584475Z",
     "start_time": "2024-10-15T14:04:37.578409Z"
    }
   },
   "cell_type": "code",
   "source": [
    "df_prepared[\"Ionization\"] = 'positive'\n",
    "df_prepared[\"RETENTIONTIME\"] = 0\n",
    "df_prepared[\"CCS\"] = 0"
   ],
   "id": "4a80b41b041050dd",
   "outputs": [],
   "execution_count": 33
  },
  {
   "metadata": {
    "ExecuteTime": {
     "end_time": "2024-10-15T13:44:36.718674Z",
     "start_time": "2024-10-15T13:44:36.708285Z"
    }
   },
   "cell_type": "code",
   "source": "df_prepared.head()",
   "id": "794f221856ee738b",
   "outputs": [
    {
     "data": {
      "text/plain": [
       "                   Name                                         SMILES  \\\n",
       "0  MassSpecGymID0000001  CC(=O)N[C@@H](CC1=CC=CC=C1)C2=CC(=CC(=O)O2)OC   \n",
       "1  MassSpecGymID0000002  CC(=O)N[C@@H](CC1=CC=CC=C1)C2=CC(=CC(=O)O2)OC   \n",
       "2  MassSpecGymID0000003  CC(=O)N[C@@H](CC1=CC=CC=C1)C2=CC(=CC(=O)O2)OC   \n",
       "3  MassSpecGymID0000004  CC(=O)N[C@@H](CC1=CC=CC=C1)C2=CC(=CC(=O)O2)OC   \n",
       "4  MassSpecGymID0000005  CC(=O)N[C@@H](CC1=CC=CC=C1)C2=CC(=CC(=O)O2)OC   \n",
       "\n",
       "         InChiKey    Formula PrecursorFormula  ParentMass  PrecursorMZ  \\\n",
       "0  VFMQMACUYWGDOJ  C16H17NO4        C16H18NO4  287.115224     288.1225   \n",
       "1  VFMQMACUYWGDOJ  C16H17NO4        C16H18NO4  287.115224     288.1225   \n",
       "2  VFMQMACUYWGDOJ  C16H17NO4        C16H18NO4  287.115224     288.1225   \n",
       "3  VFMQMACUYWGDOJ  C16H17NO4        C16H18NO4  287.115224     288.1225   \n",
       "4  VFMQMACUYWGDOJ  C16H17NO4        C16H18NO4  287.115224     288.1225   \n",
       "\n",
       "  Ionization Instrument_type    CE   fold simulation_challenge  \\\n",
       "0   positive        Orbitrap  30.0  train                 True   \n",
       "1   positive        Orbitrap  20.0  train                 True   \n",
       "2   positive        Orbitrap  40.0  train                 True   \n",
       "3   positive        Orbitrap  55.0  train                 True   \n",
       "4   positive        Orbitrap  10.0  train                 True   \n",
       "\n",
       "                                               peaks  RETENTIONTIME  CCS  \\\n",
       "0  {'mz': [91.0542, 125.0233, 154.0499, 155.0577,...            NaN  NaN   \n",
       "1  {'mz': [91.0542, 125.0233, 155.0577, 185.0961,...            NaN  NaN   \n",
       "2  {'mz': [69.0343, 91.0542, 125.0233, 127.039, 1...            NaN  NaN   \n",
       "3  {'mz': [69.0343, 91.0542, 110.06, 111.0441, 11...            NaN  NaN   \n",
       "4  {'mz': [91.0542, 125.0233, 185.0961, 229.0859,...            NaN  NaN   \n",
       "\n",
       "  Precursor_type  PPM_num  ppm_peak_tolerance          lib       origin  \n",
       "0         [M+H]+       50             0.00005  MassSpecGym  MassSpecGym  \n",
       "1         [M+H]+       50             0.00005  MassSpecGym  MassSpecGym  \n",
       "2         [M+H]+       50             0.00005  MassSpecGym  MassSpecGym  \n",
       "3         [M+H]+       50             0.00005  MassSpecGym  MassSpecGym  \n",
       "4         [M+H]+       50             0.00005  MassSpecGym  MassSpecGym  "
      ],
      "text/html": [
       "<div>\n",
       "<style scoped>\n",
       "    .dataframe tbody tr th:only-of-type {\n",
       "        vertical-align: middle;\n",
       "    }\n",
       "\n",
       "    .dataframe tbody tr th {\n",
       "        vertical-align: top;\n",
       "    }\n",
       "\n",
       "    .dataframe thead th {\n",
       "        text-align: right;\n",
       "    }\n",
       "</style>\n",
       "<table border=\"1\" class=\"dataframe\">\n",
       "  <thead>\n",
       "    <tr style=\"text-align: right;\">\n",
       "      <th></th>\n",
       "      <th>Name</th>\n",
       "      <th>SMILES</th>\n",
       "      <th>InChiKey</th>\n",
       "      <th>Formula</th>\n",
       "      <th>PrecursorFormula</th>\n",
       "      <th>ParentMass</th>\n",
       "      <th>PrecursorMZ</th>\n",
       "      <th>Ionization</th>\n",
       "      <th>Instrument_type</th>\n",
       "      <th>CE</th>\n",
       "      <th>fold</th>\n",
       "      <th>simulation_challenge</th>\n",
       "      <th>peaks</th>\n",
       "      <th>RETENTIONTIME</th>\n",
       "      <th>CCS</th>\n",
       "      <th>Precursor_type</th>\n",
       "      <th>PPM_num</th>\n",
       "      <th>ppm_peak_tolerance</th>\n",
       "      <th>lib</th>\n",
       "      <th>origin</th>\n",
       "    </tr>\n",
       "  </thead>\n",
       "  <tbody>\n",
       "    <tr>\n",
       "      <th>0</th>\n",
       "      <td>MassSpecGymID0000001</td>\n",
       "      <td>CC(=O)N[C@@H](CC1=CC=CC=C1)C2=CC(=CC(=O)O2)OC</td>\n",
       "      <td>VFMQMACUYWGDOJ</td>\n",
       "      <td>C16H17NO4</td>\n",
       "      <td>C16H18NO4</td>\n",
       "      <td>287.115224</td>\n",
       "      <td>288.1225</td>\n",
       "      <td>positive</td>\n",
       "      <td>Orbitrap</td>\n",
       "      <td>30.0</td>\n",
       "      <td>train</td>\n",
       "      <td>True</td>\n",
       "      <td>{'mz': [91.0542, 125.0233, 154.0499, 155.0577,...</td>\n",
       "      <td>NaN</td>\n",
       "      <td>NaN</td>\n",
       "      <td>[M+H]+</td>\n",
       "      <td>50</td>\n",
       "      <td>0.00005</td>\n",
       "      <td>MassSpecGym</td>\n",
       "      <td>MassSpecGym</td>\n",
       "    </tr>\n",
       "    <tr>\n",
       "      <th>1</th>\n",
       "      <td>MassSpecGymID0000002</td>\n",
       "      <td>CC(=O)N[C@@H](CC1=CC=CC=C1)C2=CC(=CC(=O)O2)OC</td>\n",
       "      <td>VFMQMACUYWGDOJ</td>\n",
       "      <td>C16H17NO4</td>\n",
       "      <td>C16H18NO4</td>\n",
       "      <td>287.115224</td>\n",
       "      <td>288.1225</td>\n",
       "      <td>positive</td>\n",
       "      <td>Orbitrap</td>\n",
       "      <td>20.0</td>\n",
       "      <td>train</td>\n",
       "      <td>True</td>\n",
       "      <td>{'mz': [91.0542, 125.0233, 155.0577, 185.0961,...</td>\n",
       "      <td>NaN</td>\n",
       "      <td>NaN</td>\n",
       "      <td>[M+H]+</td>\n",
       "      <td>50</td>\n",
       "      <td>0.00005</td>\n",
       "      <td>MassSpecGym</td>\n",
       "      <td>MassSpecGym</td>\n",
       "    </tr>\n",
       "    <tr>\n",
       "      <th>2</th>\n",
       "      <td>MassSpecGymID0000003</td>\n",
       "      <td>CC(=O)N[C@@H](CC1=CC=CC=C1)C2=CC(=CC(=O)O2)OC</td>\n",
       "      <td>VFMQMACUYWGDOJ</td>\n",
       "      <td>C16H17NO4</td>\n",
       "      <td>C16H18NO4</td>\n",
       "      <td>287.115224</td>\n",
       "      <td>288.1225</td>\n",
       "      <td>positive</td>\n",
       "      <td>Orbitrap</td>\n",
       "      <td>40.0</td>\n",
       "      <td>train</td>\n",
       "      <td>True</td>\n",
       "      <td>{'mz': [69.0343, 91.0542, 125.0233, 127.039, 1...</td>\n",
       "      <td>NaN</td>\n",
       "      <td>NaN</td>\n",
       "      <td>[M+H]+</td>\n",
       "      <td>50</td>\n",
       "      <td>0.00005</td>\n",
       "      <td>MassSpecGym</td>\n",
       "      <td>MassSpecGym</td>\n",
       "    </tr>\n",
       "    <tr>\n",
       "      <th>3</th>\n",
       "      <td>MassSpecGymID0000004</td>\n",
       "      <td>CC(=O)N[C@@H](CC1=CC=CC=C1)C2=CC(=CC(=O)O2)OC</td>\n",
       "      <td>VFMQMACUYWGDOJ</td>\n",
       "      <td>C16H17NO4</td>\n",
       "      <td>C16H18NO4</td>\n",
       "      <td>287.115224</td>\n",
       "      <td>288.1225</td>\n",
       "      <td>positive</td>\n",
       "      <td>Orbitrap</td>\n",
       "      <td>55.0</td>\n",
       "      <td>train</td>\n",
       "      <td>True</td>\n",
       "      <td>{'mz': [69.0343, 91.0542, 110.06, 111.0441, 11...</td>\n",
       "      <td>NaN</td>\n",
       "      <td>NaN</td>\n",
       "      <td>[M+H]+</td>\n",
       "      <td>50</td>\n",
       "      <td>0.00005</td>\n",
       "      <td>MassSpecGym</td>\n",
       "      <td>MassSpecGym</td>\n",
       "    </tr>\n",
       "    <tr>\n",
       "      <th>4</th>\n",
       "      <td>MassSpecGymID0000005</td>\n",
       "      <td>CC(=O)N[C@@H](CC1=CC=CC=C1)C2=CC(=CC(=O)O2)OC</td>\n",
       "      <td>VFMQMACUYWGDOJ</td>\n",
       "      <td>C16H17NO4</td>\n",
       "      <td>C16H18NO4</td>\n",
       "      <td>287.115224</td>\n",
       "      <td>288.1225</td>\n",
       "      <td>positive</td>\n",
       "      <td>Orbitrap</td>\n",
       "      <td>10.0</td>\n",
       "      <td>train</td>\n",
       "      <td>True</td>\n",
       "      <td>{'mz': [91.0542, 125.0233, 185.0961, 229.0859,...</td>\n",
       "      <td>NaN</td>\n",
       "      <td>NaN</td>\n",
       "      <td>[M+H]+</td>\n",
       "      <td>50</td>\n",
       "      <td>0.00005</td>\n",
       "      <td>MassSpecGym</td>\n",
       "      <td>MassSpecGym</td>\n",
       "    </tr>\n",
       "  </tbody>\n",
       "</table>\n",
       "</div>"
      ]
     },
     "execution_count": 8,
     "metadata": {},
     "output_type": "execute_result"
    }
   ],
   "execution_count": 8
  },
  {
   "metadata": {
    "ExecuteTime": {
     "end_time": "2024-10-15T13:48:08.104297Z",
     "start_time": "2024-10-15T13:48:08.101121Z"
    }
   },
   "cell_type": "code",
   "source": [
    "df = df_prepared\n",
    "df = df.iloc[5000:6000].copy()"
   ],
   "id": "94f283ffc397f09b",
   "outputs": [],
   "execution_count": 16
  },
  {
   "metadata": {
    "ExecuteTime": {
     "end_time": "2024-10-15T14:02:01.214988Z",
     "start_time": "2024-10-15T14:02:01.211528Z"
    }
   },
   "cell_type": "code",
   "source": "df.columns",
   "id": "9f11e50a2767c8a5",
   "outputs": [
    {
     "data": {
      "text/plain": [
       "Index(['Name', 'SMILES', 'InChiKey', 'Formula', 'PrecursorFormula',\n",
       "       'ParentMass', 'PrecursorMZ', 'Ionization', 'Instrument_type', 'CE',\n",
       "       'fold', 'simulation_challenge', 'peaks', 'RETENTIONTIME', 'CCS',\n",
       "       'Precursor_type', 'PPM_num', 'ppm_peak_tolerance', 'lib', 'origin',\n",
       "       'Metabolite'],\n",
       "      dtype='object')"
      ]
     },
     "execution_count": 30,
     "metadata": {},
     "output_type": "execute_result"
    }
   ],
   "execution_count": 30
  },
  {
   "metadata": {},
   "cell_type": "markdown",
   "source": "### Data Filtering",
   "id": "e732a0f4786dd74b"
  },
  {
   "metadata": {
    "ExecuteTime": {
     "end_time": "2024-10-15T14:02:51.158105Z",
     "start_time": "2024-10-15T14:02:51.154404Z"
    }
   },
   "cell_type": "code",
   "source": [
    "metadata_key_map = {\n",
    "                \"name\": \"Name\",\n",
    "                \"collision_energy\":  \"CE\", \n",
    "                \"instrument\": \"Instrument_type\",\n",
    "                \"ionization\": \"Ionization\",\n",
    "                \"precursor_mz\": \"PrecursorMZ\",\n",
    "                \"precursor_mode\": \"Precursor_type\",\n",
    "                \"retention_time\": \"RETENTIONTIME\",\n",
    "                \"ccs\": \"CCS\"\n",
    "                }\n"
   ],
   "id": "602d228ec9bc5ac1",
   "outputs": [],
   "execution_count": 31
  },
  {
   "metadata": {
    "ExecuteTime": {
     "end_time": "2024-10-15T14:04:49.421865Z",
     "start_time": "2024-10-15T14:04:45.672019Z"
    }
   },
   "cell_type": "code",
   "source": [
    "from fiora.MOL.Metabolite import Metabolite\n",
    "from fiora.GNN.AtomFeatureEncoder import AtomFeatureEncoder\n",
    "from fiora.GNN.BondFeatureEncoder import BondFeatureEncoder\n",
    "from fiora.GNN.SetupFeatureEncoder import SetupFeatureEncoder\n",
    "#\n",
    "filter_spectra = True\n",
    "CE_upper_limit = 100.0\n",
    "weight_upper_limit = 1000.0\n",
    "\n",
    "\n",
    "# if test_run:\n",
    "#     df = df.iloc[5000:6000,:]\n",
    "#     #df = df.iloc[5000:20000,:]\n",
    "\n",
    "\n",
    "\n",
    "df[\"Metabolite\"] = df[\"SMILES\"].apply(Metabolite)\n",
    "df[\"Metabolite\"].apply(lambda x: x.create_molecular_structure_graph())\n",
    "\n",
    "node_encoder = AtomFeatureEncoder(feature_list=[\"symbol\", \"num_hydrogen\", \"ring_type\"])\n",
    "bond_encoder = BondFeatureEncoder(feature_list=[\"bond_type\", \"ring_type\"])\n",
    "setup_encoder = SetupFeatureEncoder(feature_list=[\"collision_energy\", \"molecular_weight\", \"precursor_mode\", \"instrument\"])\n",
    "rt_encoder = SetupFeatureEncoder(feature_list=[\"molecular_weight\", \"precursor_mode\", \"instrument\"])\n",
    "\n",
    "if filter_spectra:\n",
    "    setup_encoder.normalize_features[\"collision_energy\"][\"max\"] = CE_upper_limit \n",
    "    setup_encoder.normalize_features[\"molecular_weight\"][\"max\"] = weight_upper_limit \n",
    "    rt_encoder.normalize_features[\"molecular_weight\"][\"max\"] = weight_upper_limit \n",
    "df[\"Metabolite\"].apply(lambda x: x.compute_graph_attributes(node_encoder, bond_encoder))\n",
    "\n",
    "df[\"summary\"] = df.apply(lambda x: {key: x[name] for key, name in metadata_key_map.items()}, axis=1)\n",
    "df.apply(lambda x: x[\"Metabolite\"].add_metadata(x[\"summary\"], setup_encoder, rt_encoder), axis=1)\n",
    "\n",
    "if filter_spectra:\n",
    "    num_ori = df.shape[0]\n",
    "    correct_energy = df[\"Metabolite\"].apply(lambda x: x.metadata[\"collision_energy\"] <= CE_upper_limit and x.metadata[\"collision_energy\"] > 1) \n",
    "    df = df[correct_energy]\n",
    "    correct_weight = df[\"Metabolite\"].apply(lambda x: x.metadata[\"molecular_weight\"] <= weight_upper_limit)\n",
    "    df = df[correct_weight]    \n",
    "    print(f\"Filtering spectra ({num_ori}) down to {df.shape[0]}\")\n",
    "    print(df[\"Precursor_type\"].value_counts())\n"
   ],
   "id": "468dbf472ca01ccc",
   "outputs": [
    {
     "ename": "TypeError",
     "evalue": "unsupported operand type(s) for -: 'str' and 'int'",
     "output_type": "error",
     "traceback": [
      "\u001B[0;31m---------------------------------------------------------------------------\u001B[0m",
      "\u001B[0;31mTypeError\u001B[0m                                 Traceback (most recent call last)",
      "Cell \u001B[0;32mIn[34], line 32\u001B[0m\n\u001B[1;32m     29\u001B[0m df[\u001B[38;5;124m\"\u001B[39m\u001B[38;5;124mMetabolite\u001B[39m\u001B[38;5;124m\"\u001B[39m]\u001B[38;5;241m.\u001B[39mapply(\u001B[38;5;28;01mlambda\u001B[39;00m x: x\u001B[38;5;241m.\u001B[39mcompute_graph_attributes(node_encoder, bond_encoder))\n\u001B[1;32m     31\u001B[0m df[\u001B[38;5;124m\"\u001B[39m\u001B[38;5;124msummary\u001B[39m\u001B[38;5;124m\"\u001B[39m] \u001B[38;5;241m=\u001B[39m df\u001B[38;5;241m.\u001B[39mapply(\u001B[38;5;28;01mlambda\u001B[39;00m x: {key: x[name] \u001B[38;5;28;01mfor\u001B[39;00m key, name \u001B[38;5;129;01min\u001B[39;00m metadata_key_map\u001B[38;5;241m.\u001B[39mitems()}, axis\u001B[38;5;241m=\u001B[39m\u001B[38;5;241m1\u001B[39m)\n\u001B[0;32m---> 32\u001B[0m \u001B[43mdf\u001B[49m\u001B[38;5;241;43m.\u001B[39;49m\u001B[43mapply\u001B[49m\u001B[43m(\u001B[49m\u001B[38;5;28;43;01mlambda\u001B[39;49;00m\u001B[43m \u001B[49m\u001B[43mx\u001B[49m\u001B[43m:\u001B[49m\u001B[43m \u001B[49m\u001B[43mx\u001B[49m\u001B[43m[\u001B[49m\u001B[38;5;124;43m\"\u001B[39;49m\u001B[38;5;124;43mMetabolite\u001B[39;49m\u001B[38;5;124;43m\"\u001B[39;49m\u001B[43m]\u001B[49m\u001B[38;5;241;43m.\u001B[39;49m\u001B[43madd_metadata\u001B[49m\u001B[43m(\u001B[49m\u001B[43mx\u001B[49m\u001B[43m[\u001B[49m\u001B[38;5;124;43m\"\u001B[39;49m\u001B[38;5;124;43msummary\u001B[39;49m\u001B[38;5;124;43m\"\u001B[39;49m\u001B[43m]\u001B[49m\u001B[43m,\u001B[49m\u001B[43m \u001B[49m\u001B[43msetup_encoder\u001B[49m\u001B[43m,\u001B[49m\u001B[43m \u001B[49m\u001B[43mrt_encoder\u001B[49m\u001B[43m)\u001B[49m\u001B[43m,\u001B[49m\u001B[43m \u001B[49m\u001B[43maxis\u001B[49m\u001B[38;5;241;43m=\u001B[39;49m\u001B[38;5;241;43m1\u001B[39;49m\u001B[43m)\u001B[49m\n\u001B[1;32m     34\u001B[0m \u001B[38;5;28;01mif\u001B[39;00m filter_spectra:\n\u001B[1;32m     35\u001B[0m     num_ori \u001B[38;5;241m=\u001B[39m df\u001B[38;5;241m.\u001B[39mshape[\u001B[38;5;241m0\u001B[39m]\n",
      "File \u001B[0;32m~/UTILS/anaconda3/envs/fiora/lib/python3.10/site-packages/pandas/core/frame.py:10374\u001B[0m, in \u001B[0;36mDataFrame.apply\u001B[0;34m(self, func, axis, raw, result_type, args, by_row, engine, engine_kwargs, **kwargs)\u001B[0m\n\u001B[1;32m  10360\u001B[0m \u001B[38;5;28;01mfrom\u001B[39;00m \u001B[38;5;21;01mpandas\u001B[39;00m\u001B[38;5;21;01m.\u001B[39;00m\u001B[38;5;21;01mcore\u001B[39;00m\u001B[38;5;21;01m.\u001B[39;00m\u001B[38;5;21;01mapply\u001B[39;00m \u001B[38;5;28;01mimport\u001B[39;00m frame_apply\n\u001B[1;32m  10362\u001B[0m op \u001B[38;5;241m=\u001B[39m frame_apply(\n\u001B[1;32m  10363\u001B[0m     \u001B[38;5;28mself\u001B[39m,\n\u001B[1;32m  10364\u001B[0m     func\u001B[38;5;241m=\u001B[39mfunc,\n\u001B[0;32m   (...)\u001B[0m\n\u001B[1;32m  10372\u001B[0m     kwargs\u001B[38;5;241m=\u001B[39mkwargs,\n\u001B[1;32m  10373\u001B[0m )\n\u001B[0;32m> 10374\u001B[0m \u001B[38;5;28;01mreturn\u001B[39;00m \u001B[43mop\u001B[49m\u001B[38;5;241;43m.\u001B[39;49m\u001B[43mapply\u001B[49m\u001B[43m(\u001B[49m\u001B[43m)\u001B[49m\u001B[38;5;241m.\u001B[39m__finalize__(\u001B[38;5;28mself\u001B[39m, method\u001B[38;5;241m=\u001B[39m\u001B[38;5;124m\"\u001B[39m\u001B[38;5;124mapply\u001B[39m\u001B[38;5;124m\"\u001B[39m)\n",
      "File \u001B[0;32m~/UTILS/anaconda3/envs/fiora/lib/python3.10/site-packages/pandas/core/apply.py:916\u001B[0m, in \u001B[0;36mFrameApply.apply\u001B[0;34m(self)\u001B[0m\n\u001B[1;32m    913\u001B[0m \u001B[38;5;28;01melif\u001B[39;00m \u001B[38;5;28mself\u001B[39m\u001B[38;5;241m.\u001B[39mraw:\n\u001B[1;32m    914\u001B[0m     \u001B[38;5;28;01mreturn\u001B[39;00m \u001B[38;5;28mself\u001B[39m\u001B[38;5;241m.\u001B[39mapply_raw(engine\u001B[38;5;241m=\u001B[39m\u001B[38;5;28mself\u001B[39m\u001B[38;5;241m.\u001B[39mengine, engine_kwargs\u001B[38;5;241m=\u001B[39m\u001B[38;5;28mself\u001B[39m\u001B[38;5;241m.\u001B[39mengine_kwargs)\n\u001B[0;32m--> 916\u001B[0m \u001B[38;5;28;01mreturn\u001B[39;00m \u001B[38;5;28;43mself\u001B[39;49m\u001B[38;5;241;43m.\u001B[39;49m\u001B[43mapply_standard\u001B[49m\u001B[43m(\u001B[49m\u001B[43m)\u001B[49m\n",
      "File \u001B[0;32m~/UTILS/anaconda3/envs/fiora/lib/python3.10/site-packages/pandas/core/apply.py:1063\u001B[0m, in \u001B[0;36mFrameApply.apply_standard\u001B[0;34m(self)\u001B[0m\n\u001B[1;32m   1061\u001B[0m \u001B[38;5;28;01mdef\u001B[39;00m \u001B[38;5;21mapply_standard\u001B[39m(\u001B[38;5;28mself\u001B[39m):\n\u001B[1;32m   1062\u001B[0m     \u001B[38;5;28;01mif\u001B[39;00m \u001B[38;5;28mself\u001B[39m\u001B[38;5;241m.\u001B[39mengine \u001B[38;5;241m==\u001B[39m \u001B[38;5;124m\"\u001B[39m\u001B[38;5;124mpython\u001B[39m\u001B[38;5;124m\"\u001B[39m:\n\u001B[0;32m-> 1063\u001B[0m         results, res_index \u001B[38;5;241m=\u001B[39m \u001B[38;5;28;43mself\u001B[39;49m\u001B[38;5;241;43m.\u001B[39;49m\u001B[43mapply_series_generator\u001B[49m\u001B[43m(\u001B[49m\u001B[43m)\u001B[49m\n\u001B[1;32m   1064\u001B[0m     \u001B[38;5;28;01melse\u001B[39;00m:\n\u001B[1;32m   1065\u001B[0m         results, res_index \u001B[38;5;241m=\u001B[39m \u001B[38;5;28mself\u001B[39m\u001B[38;5;241m.\u001B[39mapply_series_numba()\n",
      "File \u001B[0;32m~/UTILS/anaconda3/envs/fiora/lib/python3.10/site-packages/pandas/core/apply.py:1081\u001B[0m, in \u001B[0;36mFrameApply.apply_series_generator\u001B[0;34m(self)\u001B[0m\n\u001B[1;32m   1078\u001B[0m \u001B[38;5;28;01mwith\u001B[39;00m option_context(\u001B[38;5;124m\"\u001B[39m\u001B[38;5;124mmode.chained_assignment\u001B[39m\u001B[38;5;124m\"\u001B[39m, \u001B[38;5;28;01mNone\u001B[39;00m):\n\u001B[1;32m   1079\u001B[0m     \u001B[38;5;28;01mfor\u001B[39;00m i, v \u001B[38;5;129;01min\u001B[39;00m \u001B[38;5;28menumerate\u001B[39m(series_gen):\n\u001B[1;32m   1080\u001B[0m         \u001B[38;5;66;03m# ignore SettingWithCopy here in case the user mutates\u001B[39;00m\n\u001B[0;32m-> 1081\u001B[0m         results[i] \u001B[38;5;241m=\u001B[39m \u001B[38;5;28;43mself\u001B[39;49m\u001B[38;5;241;43m.\u001B[39;49m\u001B[43mfunc\u001B[49m\u001B[43m(\u001B[49m\u001B[43mv\u001B[49m\u001B[43m,\u001B[49m\u001B[43m \u001B[49m\u001B[38;5;241;43m*\u001B[39;49m\u001B[38;5;28;43mself\u001B[39;49m\u001B[38;5;241;43m.\u001B[39;49m\u001B[43margs\u001B[49m\u001B[43m,\u001B[49m\u001B[43m \u001B[49m\u001B[38;5;241;43m*\u001B[39;49m\u001B[38;5;241;43m*\u001B[39;49m\u001B[38;5;28;43mself\u001B[39;49m\u001B[38;5;241;43m.\u001B[39;49m\u001B[43mkwargs\u001B[49m\u001B[43m)\u001B[49m\n\u001B[1;32m   1082\u001B[0m         \u001B[38;5;28;01mif\u001B[39;00m \u001B[38;5;28misinstance\u001B[39m(results[i], ABCSeries):\n\u001B[1;32m   1083\u001B[0m             \u001B[38;5;66;03m# If we have a view on v, we need to make a copy because\u001B[39;00m\n\u001B[1;32m   1084\u001B[0m             \u001B[38;5;66;03m#  series_generator will swap out the underlying data\u001B[39;00m\n\u001B[1;32m   1085\u001B[0m             results[i] \u001B[38;5;241m=\u001B[39m results[i]\u001B[38;5;241m.\u001B[39mcopy(deep\u001B[38;5;241m=\u001B[39m\u001B[38;5;28;01mFalse\u001B[39;00m)\n",
      "Cell \u001B[0;32mIn[34], line 32\u001B[0m, in \u001B[0;36m<lambda>\u001B[0;34m(x)\u001B[0m\n\u001B[1;32m     29\u001B[0m df[\u001B[38;5;124m\"\u001B[39m\u001B[38;5;124mMetabolite\u001B[39m\u001B[38;5;124m\"\u001B[39m]\u001B[38;5;241m.\u001B[39mapply(\u001B[38;5;28;01mlambda\u001B[39;00m x: x\u001B[38;5;241m.\u001B[39mcompute_graph_attributes(node_encoder, bond_encoder))\n\u001B[1;32m     31\u001B[0m df[\u001B[38;5;124m\"\u001B[39m\u001B[38;5;124msummary\u001B[39m\u001B[38;5;124m\"\u001B[39m] \u001B[38;5;241m=\u001B[39m df\u001B[38;5;241m.\u001B[39mapply(\u001B[38;5;28;01mlambda\u001B[39;00m x: {key: x[name] \u001B[38;5;28;01mfor\u001B[39;00m key, name \u001B[38;5;129;01min\u001B[39;00m metadata_key_map\u001B[38;5;241m.\u001B[39mitems()}, axis\u001B[38;5;241m=\u001B[39m\u001B[38;5;241m1\u001B[39m)\n\u001B[0;32m---> 32\u001B[0m df\u001B[38;5;241m.\u001B[39mapply(\u001B[38;5;28;01mlambda\u001B[39;00m x: \u001B[43mx\u001B[49m\u001B[43m[\u001B[49m\u001B[38;5;124;43m\"\u001B[39;49m\u001B[38;5;124;43mMetabolite\u001B[39;49m\u001B[38;5;124;43m\"\u001B[39;49m\u001B[43m]\u001B[49m\u001B[38;5;241;43m.\u001B[39;49m\u001B[43madd_metadata\u001B[49m\u001B[43m(\u001B[49m\u001B[43mx\u001B[49m\u001B[43m[\u001B[49m\u001B[38;5;124;43m\"\u001B[39;49m\u001B[38;5;124;43msummary\u001B[39;49m\u001B[38;5;124;43m\"\u001B[39;49m\u001B[43m]\u001B[49m\u001B[43m,\u001B[49m\u001B[43m \u001B[49m\u001B[43msetup_encoder\u001B[49m\u001B[43m,\u001B[49m\u001B[43m \u001B[49m\u001B[43mrt_encoder\u001B[49m\u001B[43m)\u001B[49m, axis\u001B[38;5;241m=\u001B[39m\u001B[38;5;241m1\u001B[39m)\n\u001B[1;32m     34\u001B[0m \u001B[38;5;28;01mif\u001B[39;00m filter_spectra:\n\u001B[1;32m     35\u001B[0m     num_ori \u001B[38;5;241m=\u001B[39m df\u001B[38;5;241m.\u001B[39mshape[\u001B[38;5;241m0\u001B[39m]\n",
      "File \u001B[0;32m~/CODE/FIORA/fiora/fiora/MOL/Metabolite.py:153\u001B[0m, in \u001B[0;36mMetabolite.add_metadata\u001B[0;34m(self, metadata, setup_encoder, rt_feature_encoder, max_RT)\u001B[0m\n\u001B[1;32m    151\u001B[0m metadata\u001B[38;5;241m.\u001B[39mupdate(mol_metadata)\n\u001B[1;32m    152\u001B[0m \u001B[38;5;28;01mif\u001B[39;00m setup_encoder:\n\u001B[0;32m--> 153\u001B[0m     \u001B[38;5;28mself\u001B[39m\u001B[38;5;241m.\u001B[39msetup_features \u001B[38;5;241m=\u001B[39m \u001B[43msetup_encoder\u001B[49m\u001B[38;5;241;43m.\u001B[39;49m\u001B[43mencode\u001B[49m\u001B[43m(\u001B[49m\u001B[38;5;241;43m1\u001B[39;49m\u001B[43m,\u001B[49m\u001B[43m \u001B[49m\u001B[43mmetadata\u001B[49m\u001B[43m)\u001B[49m\n\u001B[1;32m    154\u001B[0m     \u001B[38;5;28mself\u001B[39m\u001B[38;5;241m.\u001B[39msetup_features_per_edge \u001B[38;5;241m=\u001B[39m setup_encoder\u001B[38;5;241m.\u001B[39mencode(\u001B[38;5;28mlen\u001B[39m(\u001B[38;5;28mself\u001B[39m\u001B[38;5;241m.\u001B[39medges_as_tuples), metadata)\n\u001B[1;32m    155\u001B[0m     \u001B[38;5;66;03m# self.additional_features = torch.cat([self.bond_features, self.setup_features], dim=1)\u001B[39;00m\n\u001B[1;32m    156\u001B[0m \u001B[38;5;28;01melse\u001B[39;00m:\n",
      "File \u001B[0;32m~/CODE/FIORA/fiora/fiora/GNN/SetupFeatureEncoder.py:53\u001B[0m, in \u001B[0;36mSetupFeatureEncoder.encode\u001B[0;34m(self, dim0, metadata)\u001B[0m\n\u001B[1;32m     51\u001B[0m value \u001B[38;5;241m=\u001B[39m metadata[feature]\n\u001B[1;32m     52\u001B[0m \u001B[38;5;28;01mif\u001B[39;00m feature \u001B[38;5;129;01min\u001B[39;00m \u001B[38;5;28mself\u001B[39m\u001B[38;5;241m.\u001B[39mnormalize_features\u001B[38;5;241m.\u001B[39mkeys():\n\u001B[0;32m---> 53\u001B[0m     value \u001B[38;5;241m=\u001B[39m (\u001B[43mvalue\u001B[49m\u001B[43m \u001B[49m\u001B[38;5;241;43m-\u001B[39;49m\u001B[43m \u001B[49m\u001B[38;5;28;43mself\u001B[39;49m\u001B[38;5;241;43m.\u001B[39;49m\u001B[43mnormalize_features\u001B[49m\u001B[43m[\u001B[49m\u001B[43mfeature\u001B[49m\u001B[43m]\u001B[49m\u001B[43m[\u001B[49m\u001B[38;5;124;43m\"\u001B[39;49m\u001B[38;5;124;43mmin\u001B[39;49m\u001B[38;5;124;43m\"\u001B[39;49m\u001B[43m]\u001B[49m) \u001B[38;5;241m/\u001B[39m (\u001B[38;5;28mself\u001B[39m\u001B[38;5;241m.\u001B[39mnormalize_features[feature][\u001B[38;5;124m\"\u001B[39m\u001B[38;5;124mmax\u001B[39m\u001B[38;5;124m\"\u001B[39m] \u001B[38;5;241m-\u001B[39m \u001B[38;5;28mself\u001B[39m\u001B[38;5;241m.\u001B[39mnormalize_features[feature][\u001B[38;5;124m\"\u001B[39m\u001B[38;5;124mmin\u001B[39m\u001B[38;5;124m\"\u001B[39m])\n\u001B[1;32m     54\u001B[0m feature_matrix[:, \u001B[38;5;28mself\u001B[39m\u001B[38;5;241m.\u001B[39mone_hot_mapper[feature]] \u001B[38;5;241m=\u001B[39m value\n\u001B[1;32m     55\u001B[0m feature_matrix \u001B[38;5;241m=\u001B[39m torch\u001B[38;5;241m.\u001B[39mclamp(feature_matrix, \u001B[38;5;241m0.0\u001B[39m, \u001B[38;5;241m1.0\u001B[39m)\n",
      "\u001B[0;31mTypeError\u001B[0m: unsupported operand type(s) for -: 'str' and 'int'"
     ]
    }
   ],
   "execution_count": 34
  },
  {
   "metadata": {
    "ExecuteTime": {
     "end_time": "2024-10-15T13:49:25.218424Z",
     "start_time": "2024-10-15T13:49:25.204971Z"
    }
   },
   "cell_type": "code",
   "source": "df.head()",
   "id": "d20e82888d77db85",
   "outputs": [
    {
     "data": {
      "text/plain": [
       "                      Name                                             SMILES  \\\n",
       "5000  MassSpecGymID0006183  CCCCCCOC(=O)C1=CC(=C(C=C1)C(=O)OCCCCCC)C(=O)OC...   \n",
       "5001  MassSpecGymID0006184  CCCCCCOC(=O)C1=CC(=C(C=C1)C(=O)OCCCCCC)C(=O)OC...   \n",
       "5002  MassSpecGymID0006185  CCCCCCOC(=O)C1=CC(=C(C=C1)C(=O)OCCCCCC)C(=O)OC...   \n",
       "5003  MassSpecGymID0006186  CCCCCCOC(=O)C1=CC(=C(C=C1)C(=O)OCCCCCC)C(=O)OC...   \n",
       "5004  MassSpecGymID0006187  CCCCCCOC(=O)C1=CC(=C(C=C1)C(=O)OCCCCCC)C(=O)OC...   \n",
       "\n",
       "            InChiKey   Formula PrecursorFormula  ParentMass  PrecursorMZ  \\\n",
       "5000  MXHBQKVKHGQWRB  C27H42O6         C27H43O6  462.298124     463.3054   \n",
       "5001  MXHBQKVKHGQWRB  C27H42O6         C27H43O6  462.298124     463.3054   \n",
       "5002  MXHBQKVKHGQWRB  C27H42O6         C27H43O6  462.298124     463.3054   \n",
       "5003  MXHBQKVKHGQWRB  C27H42O6         C27H43O6  462.298124     463.3054   \n",
       "5004  MXHBQKVKHGQWRB  C27H42O6         C27H43O6  462.298124     463.3054   \n",
       "\n",
       "     Ionization Instrument_type    CE  ... simulation_challenge  \\\n",
       "5000   positive            QTOF   5.0  ...                 True   \n",
       "5001   positive            QTOF  35.0  ...                 True   \n",
       "5002   positive            QTOF  20.0  ...                 True   \n",
       "5003   positive            QTOF  45.0  ...                 True   \n",
       "5004   positive            QTOF  10.0  ...                 True   \n",
       "\n",
       "                                                  peaks RETENTIONTIME  CCS  \\\n",
       "5000  {'mz': [85.1005, 149.0444, 193.0135, 223.0656,...           NaN  NaN   \n",
       "5001  {'mz': [57.0708, 81.0328, 109.029, 137.0224, 1...           NaN  NaN   \n",
       "5002  {'mz': [57.07, 109.0287, 149.0437, 193.0123, 2...           NaN  NaN   \n",
       "5003  {'mz': [55.0183, 57.0704, 69.0708, 81.0342, 10...           NaN  NaN   \n",
       "5004  {'mz': [85.1018, 137.0219, 193.0123, 207.0292,...           NaN  NaN   \n",
       "\n",
       "      Precursor_type PPM_num  ppm_peak_tolerance          lib       origin  \\\n",
       "5000          [M+H]+      50             0.00005  MassSpecGym  MassSpecGym   \n",
       "5001          [M+H]+      50             0.00005  MassSpecGym  MassSpecGym   \n",
       "5002          [M+H]+      50             0.00005  MassSpecGym  MassSpecGym   \n",
       "5003          [M+H]+      50             0.00005  MassSpecGym  MassSpecGym   \n",
       "5004          [M+H]+      50             0.00005  MassSpecGym  MassSpecGym   \n",
       "\n",
       "                                             Metabolite  \n",
       "5000  <Metabolite: CCCCCCOC(=O)C1=CC(=C(C=C1)C(=O)OC...  \n",
       "5001  <Metabolite: CCCCCCOC(=O)C1=CC(=C(C=C1)C(=O)OC...  \n",
       "5002  <Metabolite: CCCCCCOC(=O)C1=CC(=C(C=C1)C(=O)OC...  \n",
       "5003  <Metabolite: CCCCCCOC(=O)C1=CC(=C(C=C1)C(=O)OC...  \n",
       "5004  <Metabolite: CCCCCCOC(=O)C1=CC(=C(C=C1)C(=O)OC...  \n",
       "\n",
       "[5 rows x 21 columns]"
      ],
      "text/html": [
       "<div>\n",
       "<style scoped>\n",
       "    .dataframe tbody tr th:only-of-type {\n",
       "        vertical-align: middle;\n",
       "    }\n",
       "\n",
       "    .dataframe tbody tr th {\n",
       "        vertical-align: top;\n",
       "    }\n",
       "\n",
       "    .dataframe thead th {\n",
       "        text-align: right;\n",
       "    }\n",
       "</style>\n",
       "<table border=\"1\" class=\"dataframe\">\n",
       "  <thead>\n",
       "    <tr style=\"text-align: right;\">\n",
       "      <th></th>\n",
       "      <th>Name</th>\n",
       "      <th>SMILES</th>\n",
       "      <th>InChiKey</th>\n",
       "      <th>Formula</th>\n",
       "      <th>PrecursorFormula</th>\n",
       "      <th>ParentMass</th>\n",
       "      <th>PrecursorMZ</th>\n",
       "      <th>Ionization</th>\n",
       "      <th>Instrument_type</th>\n",
       "      <th>CE</th>\n",
       "      <th>...</th>\n",
       "      <th>simulation_challenge</th>\n",
       "      <th>peaks</th>\n",
       "      <th>RETENTIONTIME</th>\n",
       "      <th>CCS</th>\n",
       "      <th>Precursor_type</th>\n",
       "      <th>PPM_num</th>\n",
       "      <th>ppm_peak_tolerance</th>\n",
       "      <th>lib</th>\n",
       "      <th>origin</th>\n",
       "      <th>Metabolite</th>\n",
       "    </tr>\n",
       "  </thead>\n",
       "  <tbody>\n",
       "    <tr>\n",
       "      <th>5000</th>\n",
       "      <td>MassSpecGymID0006183</td>\n",
       "      <td>CCCCCCOC(=O)C1=CC(=C(C=C1)C(=O)OCCCCCC)C(=O)OC...</td>\n",
       "      <td>MXHBQKVKHGQWRB</td>\n",
       "      <td>C27H42O6</td>\n",
       "      <td>C27H43O6</td>\n",
       "      <td>462.298124</td>\n",
       "      <td>463.3054</td>\n",
       "      <td>positive</td>\n",
       "      <td>QTOF</td>\n",
       "      <td>5.0</td>\n",
       "      <td>...</td>\n",
       "      <td>True</td>\n",
       "      <td>{'mz': [85.1005, 149.0444, 193.0135, 223.0656,...</td>\n",
       "      <td>NaN</td>\n",
       "      <td>NaN</td>\n",
       "      <td>[M+H]+</td>\n",
       "      <td>50</td>\n",
       "      <td>0.00005</td>\n",
       "      <td>MassSpecGym</td>\n",
       "      <td>MassSpecGym</td>\n",
       "      <td>&lt;Metabolite: CCCCCCOC(=O)C1=CC(=C(C=C1)C(=O)OC...</td>\n",
       "    </tr>\n",
       "    <tr>\n",
       "      <th>5001</th>\n",
       "      <td>MassSpecGymID0006184</td>\n",
       "      <td>CCCCCCOC(=O)C1=CC(=C(C=C1)C(=O)OCCCCCC)C(=O)OC...</td>\n",
       "      <td>MXHBQKVKHGQWRB</td>\n",
       "      <td>C27H42O6</td>\n",
       "      <td>C27H43O6</td>\n",
       "      <td>462.298124</td>\n",
       "      <td>463.3054</td>\n",
       "      <td>positive</td>\n",
       "      <td>QTOF</td>\n",
       "      <td>35.0</td>\n",
       "      <td>...</td>\n",
       "      <td>True</td>\n",
       "      <td>{'mz': [57.0708, 81.0328, 109.029, 137.0224, 1...</td>\n",
       "      <td>NaN</td>\n",
       "      <td>NaN</td>\n",
       "      <td>[M+H]+</td>\n",
       "      <td>50</td>\n",
       "      <td>0.00005</td>\n",
       "      <td>MassSpecGym</td>\n",
       "      <td>MassSpecGym</td>\n",
       "      <td>&lt;Metabolite: CCCCCCOC(=O)C1=CC(=C(C=C1)C(=O)OC...</td>\n",
       "    </tr>\n",
       "    <tr>\n",
       "      <th>5002</th>\n",
       "      <td>MassSpecGymID0006185</td>\n",
       "      <td>CCCCCCOC(=O)C1=CC(=C(C=C1)C(=O)OCCCCCC)C(=O)OC...</td>\n",
       "      <td>MXHBQKVKHGQWRB</td>\n",
       "      <td>C27H42O6</td>\n",
       "      <td>C27H43O6</td>\n",
       "      <td>462.298124</td>\n",
       "      <td>463.3054</td>\n",
       "      <td>positive</td>\n",
       "      <td>QTOF</td>\n",
       "      <td>20.0</td>\n",
       "      <td>...</td>\n",
       "      <td>True</td>\n",
       "      <td>{'mz': [57.07, 109.0287, 149.0437, 193.0123, 2...</td>\n",
       "      <td>NaN</td>\n",
       "      <td>NaN</td>\n",
       "      <td>[M+H]+</td>\n",
       "      <td>50</td>\n",
       "      <td>0.00005</td>\n",
       "      <td>MassSpecGym</td>\n",
       "      <td>MassSpecGym</td>\n",
       "      <td>&lt;Metabolite: CCCCCCOC(=O)C1=CC(=C(C=C1)C(=O)OC...</td>\n",
       "    </tr>\n",
       "    <tr>\n",
       "      <th>5003</th>\n",
       "      <td>MassSpecGymID0006186</td>\n",
       "      <td>CCCCCCOC(=O)C1=CC(=C(C=C1)C(=O)OCCCCCC)C(=O)OC...</td>\n",
       "      <td>MXHBQKVKHGQWRB</td>\n",
       "      <td>C27H42O6</td>\n",
       "      <td>C27H43O6</td>\n",
       "      <td>462.298124</td>\n",
       "      <td>463.3054</td>\n",
       "      <td>positive</td>\n",
       "      <td>QTOF</td>\n",
       "      <td>45.0</td>\n",
       "      <td>...</td>\n",
       "      <td>True</td>\n",
       "      <td>{'mz': [55.0183, 57.0704, 69.0708, 81.0342, 10...</td>\n",
       "      <td>NaN</td>\n",
       "      <td>NaN</td>\n",
       "      <td>[M+H]+</td>\n",
       "      <td>50</td>\n",
       "      <td>0.00005</td>\n",
       "      <td>MassSpecGym</td>\n",
       "      <td>MassSpecGym</td>\n",
       "      <td>&lt;Metabolite: CCCCCCOC(=O)C1=CC(=C(C=C1)C(=O)OC...</td>\n",
       "    </tr>\n",
       "    <tr>\n",
       "      <th>5004</th>\n",
       "      <td>MassSpecGymID0006187</td>\n",
       "      <td>CCCCCCOC(=O)C1=CC(=C(C=C1)C(=O)OCCCCCC)C(=O)OC...</td>\n",
       "      <td>MXHBQKVKHGQWRB</td>\n",
       "      <td>C27H42O6</td>\n",
       "      <td>C27H43O6</td>\n",
       "      <td>462.298124</td>\n",
       "      <td>463.3054</td>\n",
       "      <td>positive</td>\n",
       "      <td>QTOF</td>\n",
       "      <td>10.0</td>\n",
       "      <td>...</td>\n",
       "      <td>True</td>\n",
       "      <td>{'mz': [85.1018, 137.0219, 193.0123, 207.0292,...</td>\n",
       "      <td>NaN</td>\n",
       "      <td>NaN</td>\n",
       "      <td>[M+H]+</td>\n",
       "      <td>50</td>\n",
       "      <td>0.00005</td>\n",
       "      <td>MassSpecGym</td>\n",
       "      <td>MassSpecGym</td>\n",
       "      <td>&lt;Metabolite: CCCCCCOC(=O)C1=CC(=C(C=C1)C(=O)OC...</td>\n",
       "    </tr>\n",
       "  </tbody>\n",
       "</table>\n",
       "<p>5 rows × 21 columns</p>\n",
       "</div>"
      ]
     },
     "execution_count": 19,
     "metadata": {},
     "output_type": "execute_result"
    }
   ],
   "execution_count": 19
  },
  {
   "metadata": {
    "ExecuteTime": {
     "end_time": "2024-10-15T13:50:10.963263Z",
     "start_time": "2024-10-15T13:50:10.958584Z"
    }
   },
   "cell_type": "code",
   "source": "df.columns",
   "id": "9e046c905114dd18",
   "outputs": [
    {
     "data": {
      "text/plain": [
       "Index(['Name', 'SMILES', 'InChiKey', 'Formula', 'PrecursorFormula',\n",
       "       'ParentMass', 'PrecursorMZ', 'Ionization', 'Instrument_type', 'CE',\n",
       "       'fold', 'simulation_challenge', 'peaks', 'RETENTIONTIME', 'CCS',\n",
       "       'Precursor_type', 'PPM_num', 'ppm_peak_tolerance', 'lib', 'origin',\n",
       "       'Metabolite'],\n",
       "      dtype='object')"
      ]
     },
     "execution_count": 20,
     "metadata": {},
     "output_type": "execute_result"
    }
   ],
   "execution_count": 20
  },
  {
   "metadata": {
    "ExecuteTime": {
     "end_time": "2024-10-15T13:50:24.440192Z",
     "start_time": "2024-10-15T13:50:24.160209Z"
    }
   },
   "cell_type": "code",
   "source": [
    "df[\"Metabolite\"] = df[\"SMILES\"].apply(Metabolite)\n",
    "df[\"Metabolite\"].apply(lambda x: x.create_molecular_structure_graph())"
   ],
   "id": "11b96210b4160be6",
   "outputs": [],
   "execution_count": 21
  },
  {
   "metadata": {
    "ExecuteTime": {
     "end_time": "2024-10-15T13:51:53.621817Z",
     "start_time": "2024-10-15T13:51:53.447848Z"
    }
   },
   "cell_type": "code",
   "source": "df[\"Metabolite\"].apply(lambda x: x.create_molecular_structure_graph())",
   "id": "883834e65080b355",
   "outputs": [
    {
     "data": {
      "text/plain": [
       "5000    None\n",
       "5001    None\n",
       "5002    None\n",
       "5003    None\n",
       "5004    None\n",
       "        ... \n",
       "5995    None\n",
       "5996    None\n",
       "5997    None\n",
       "5998    None\n",
       "5999    None\n",
       "Name: Metabolite, Length: 1000, dtype: object"
      ]
     },
     "execution_count": 25,
     "metadata": {},
     "output_type": "execute_result"
    }
   ],
   "execution_count": 25
  },
  {
   "metadata": {
    "ExecuteTime": {
     "end_time": "2024-10-15T13:52:31.158342Z",
     "start_time": "2024-10-15T13:52:31.154336Z"
    }
   },
   "cell_type": "code",
   "source": "type(df[\"Metabolite\"].iloc[0])",
   "id": "b8fc812303995d4f",
   "outputs": [
    {
     "data": {
      "text/plain": [
       "fiora.MOL.Metabolite.Metabolite"
      ]
     },
     "execution_count": 28,
     "metadata": {},
     "output_type": "execute_result"
    }
   ],
   "execution_count": 28
  },
  {
   "metadata": {},
   "cell_type": "code",
   "outputs": [],
   "execution_count": null,
   "source": "",
   "id": "3986878670d83302"
  }
 ],
 "metadata": {
  "kernelspec": {
   "display_name": "Python 3",
   "language": "python",
   "name": "python3"
  },
  "language_info": {
   "codemirror_mode": {
    "name": "ipython",
    "version": 2
   },
   "file_extension": ".py",
   "mimetype": "text/x-python",
   "name": "python",
   "nbconvert_exporter": "python",
   "pygments_lexer": "ipython2",
   "version": "2.7.6"
  }
 },
 "nbformat": 4,
 "nbformat_minor": 5
}
